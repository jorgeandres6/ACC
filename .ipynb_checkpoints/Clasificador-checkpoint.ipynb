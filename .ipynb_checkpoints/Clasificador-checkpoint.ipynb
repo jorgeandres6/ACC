{
 "cells": [
  {
   "cell_type": "code",
   "execution_count": 10,
   "id": "0ebc3a64",
   "metadata": {},
   "outputs": [],
   "source": [
    "import pandas as pd\n",
    "from sklearn.feature_extraction.text import CountVectorizer\n",
    "from sklearn.naive_bayes import MultinomialNB"
   ]
  },
  {
   "cell_type": "code",
   "execution_count": 42,
   "id": "511460a4",
   "metadata": {},
   "outputs": [
    {
     "data": {
      "text/html": [
       "<div>\n",
       "<style scoped>\n",
       "    .dataframe tbody tr th:only-of-type {\n",
       "        vertical-align: middle;\n",
       "    }\n",
       "\n",
       "    .dataframe tbody tr th {\n",
       "        vertical-align: top;\n",
       "    }\n",
       "\n",
       "    .dataframe thead th {\n",
       "        text-align: right;\n",
       "    }\n",
       "</style>\n",
       "<table border=\"1\" class=\"dataframe\">\n",
       "  <thead>\n",
       "    <tr style=\"text-align: right;\">\n",
       "      <th></th>\n",
       "      <th>RAZON</th>\n",
       "      <th>CLASE</th>\n",
       "    </tr>\n",
       "  </thead>\n",
       "  <tbody>\n",
       "    <tr>\n",
       "      <th>0</th>\n",
       "      <td>GARCIA ORTEGA NELLY GERMANIA SUPERVISIÓN Y GES...</td>\n",
       "      <td>ALIMENTACIÓN</td>\n",
       "    </tr>\n",
       "    <tr>\n",
       "      <th>1</th>\n",
       "      <td>CAÑAS SALAZAR SARA MARIA VENTA AL POR MENOR DE...</td>\n",
       "      <td>TRANSPORTE Y MOVILIDAD</td>\n",
       "    </tr>\n",
       "    <tr>\n",
       "      <th>2</th>\n",
       "      <td>CORPORACION EL ROSADO S.A. VENTA AL POR MENOR ...</td>\n",
       "      <td>ALIMENTACIÓN</td>\n",
       "    </tr>\n",
       "    <tr>\n",
       "      <th>3</th>\n",
       "      <td>TIENDAS INDUSTRIALES ASOCIADAS TIA S. A. VENTA...</td>\n",
       "      <td>ALIMENTACIÓN</td>\n",
       "    </tr>\n",
       "    <tr>\n",
       "      <th>4</th>\n",
       "      <td>NUEVAS OPERACIONES COMERCIALES NUCOPSA S.A. AD...</td>\n",
       "      <td>TRANSPORTE Y MOVILIDAD</td>\n",
       "    </tr>\n",
       "    <tr>\n",
       "      <th>5</th>\n",
       "      <td>ATIMASA S.A. VENTA AL POR MENOR DE COMBUSTIBLE...</td>\n",
       "      <td>TRANSPORTE Y MOVILIDAD</td>\n",
       "    </tr>\n",
       "    <tr>\n",
       "      <th>6</th>\n",
       "      <td>CEVALLOS BARROS MARTHA BEATRIZ VENTA AL POR ME...</td>\n",
       "      <td>ALIMENTACIÓN</td>\n",
       "    </tr>\n",
       "    <tr>\n",
       "      <th>7</th>\n",
       "      <td>BELTRAN REALPE ROSA YOLANDA VENTA AL POR MAYOR...</td>\n",
       "      <td>ALIMENTACIÓN</td>\n",
       "    </tr>\n",
       "    <tr>\n",
       "      <th>8</th>\n",
       "      <td>MORA MARIA MARGARITA VENTA AL POR MENOR DE MAT...</td>\n",
       "      <td>VIVIENDA</td>\n",
       "    </tr>\n",
       "    <tr>\n",
       "      <th>9</th>\n",
       "      <td>NICOLALDE SUBIA MICHAEL NELSON VENTA DE COMIDA...</td>\n",
       "      <td>ALIMENTACIÓN</td>\n",
       "    </tr>\n",
       "    <tr>\n",
       "      <th>10</th>\n",
       "      <td>CORPORACION NACIONAL DE TELECOMUNICACIONES - C...</td>\n",
       "      <td>COMUNICACIÓN</td>\n",
       "    </tr>\n",
       "    <tr>\n",
       "      <th>11</th>\n",
       "      <td>BANCO PICHINCHA CA ACTIVIDADES DE INTERMEDIACI...</td>\n",
       "      <td>OTROS</td>\n",
       "    </tr>\n",
       "    <tr>\n",
       "      <th>12</th>\n",
       "      <td>CORPORACION FAVORITA C.A. VENTA AL POR MAYOR D...</td>\n",
       "      <td>ALIMENTACIÓN</td>\n",
       "    </tr>\n",
       "    <tr>\n",
       "      <th>13</th>\n",
       "      <td>COMERCIAL KYWI S.A. VENTA AL POR MAYOR DE ARTÍ...</td>\n",
       "      <td>VIVIENDA</td>\n",
       "    </tr>\n",
       "    <tr>\n",
       "      <th>14</th>\n",
       "      <td>KERAMIKOS S.A. FABRICACIÓN DE ARTÍCULOS PARA C...</td>\n",
       "      <td>VIVIENDA</td>\n",
       "    </tr>\n",
       "    <tr>\n",
       "      <th>15</th>\n",
       "      <td>AIG METROPOLITANA CIA. DE SEGUROS Y REASEGUROS...</td>\n",
       "      <td>SALUD</td>\n",
       "    </tr>\n",
       "    <tr>\n",
       "      <th>16</th>\n",
       "      <td>HAYEK INTERNACIONAL CIA. LTDA. VENTA AL POR ME...</td>\n",
       "      <td>VIVIENDA</td>\n",
       "    </tr>\n",
       "    <tr>\n",
       "      <th>17</th>\n",
       "      <td>TELEVISION Y VENTAS TELEVENT S.A. VENTA AL POR...</td>\n",
       "      <td>VIVIENDA</td>\n",
       "    </tr>\n",
       "    <tr>\n",
       "      <th>18</th>\n",
       "      <td>CONSORCIO ECUATORIANO DE TELECOMUNICACIONES S....</td>\n",
       "      <td>COMUNICACIÓN</td>\n",
       "    </tr>\n",
       "    <tr>\n",
       "      <th>19</th>\n",
       "      <td>OTECEL S.A. ACTIVIDADES DE MANTENIMIENTO Y EXP...</td>\n",
       "      <td>COMUNICACIÓN</td>\n",
       "    </tr>\n",
       "    <tr>\n",
       "      <th>20</th>\n",
       "      <td>MEGADATOS S.A. VENTA AL POR MENOR DE PROGRAMAS...</td>\n",
       "      <td>COMUNICACIÓN</td>\n",
       "    </tr>\n",
       "    <tr>\n",
       "      <th>21</th>\n",
       "      <td>IMPORTADORA ELECTRICA ALVARADO IMPELAL CIA. LT...</td>\n",
       "      <td>VIVIENDA</td>\n",
       "    </tr>\n",
       "    <tr>\n",
       "      <th>22</th>\n",
       "      <td>ECONOFARM S.A. VENTA AL POR MAYOR DE ARTÍCULOS...</td>\n",
       "      <td>SALUD</td>\n",
       "    </tr>\n",
       "    <tr>\n",
       "      <th>23</th>\n",
       "      <td>COMERCIAL EL ARBOLITO CIA. LTDA. VENTA AL POR ...</td>\n",
       "      <td>ALIMENTACIÓN</td>\n",
       "    </tr>\n",
       "    <tr>\n",
       "      <th>24</th>\n",
       "      <td>MEGA SANTAMARIA S.A. VENTA AL POR MAYOR DE OTR...</td>\n",
       "      <td>ALIMENTACIÓN</td>\n",
       "    </tr>\n",
       "    <tr>\n",
       "      <th>25</th>\n",
       "      <td>GROUPKENNEDY CIA. LTDA. VENTA DE COMIDAS Y BEB...</td>\n",
       "      <td>ALIMENTACIÓN</td>\n",
       "    </tr>\n",
       "    <tr>\n",
       "      <th>26</th>\n",
       "      <td>MACONSMIL CIA. LTDA. VENTA AL POR MAYOR DE MAT...</td>\n",
       "      <td>VIVIENDA</td>\n",
       "    </tr>\n",
       "    <tr>\n",
       "      <th>27</th>\n",
       "      <td>BAZFEX S.A. VENTA AL POR MAYOR DE PRODUCTOS DE...</td>\n",
       "      <td>ALIMENTACIÓN</td>\n",
       "    </tr>\n",
       "    <tr>\n",
       "      <th>28</th>\n",
       "      <td>TACONAZO RESTAURANTES Y BEBIDAS VILLAGRANMOLIN...</td>\n",
       "      <td>ALIMENTACIÓN</td>\n",
       "    </tr>\n",
       "    <tr>\n",
       "      <th>29</th>\n",
       "      <td>LOST-GRILL ECUADOR S.A.S. RESTAURANTES, CEVICH...</td>\n",
       "      <td>ALIMENTACIÓN</td>\n",
       "    </tr>\n",
       "  </tbody>\n",
       "</table>\n",
       "</div>"
      ],
      "text/plain": [
       "                                                RAZON                   CLASE\n",
       "0   GARCIA ORTEGA NELLY GERMANIA SUPERVISIÓN Y GES...            ALIMENTACIÓN\n",
       "1   CAÑAS SALAZAR SARA MARIA VENTA AL POR MENOR DE...  TRANSPORTE Y MOVILIDAD\n",
       "2   CORPORACION EL ROSADO S.A. VENTA AL POR MENOR ...            ALIMENTACIÓN\n",
       "3   TIENDAS INDUSTRIALES ASOCIADAS TIA S. A. VENTA...            ALIMENTACIÓN\n",
       "4   NUEVAS OPERACIONES COMERCIALES NUCOPSA S.A. AD...  TRANSPORTE Y MOVILIDAD\n",
       "5   ATIMASA S.A. VENTA AL POR MENOR DE COMBUSTIBLE...  TRANSPORTE Y MOVILIDAD\n",
       "6   CEVALLOS BARROS MARTHA BEATRIZ VENTA AL POR ME...            ALIMENTACIÓN\n",
       "7   BELTRAN REALPE ROSA YOLANDA VENTA AL POR MAYOR...            ALIMENTACIÓN\n",
       "8   MORA MARIA MARGARITA VENTA AL POR MENOR DE MAT...                VIVIENDA\n",
       "9   NICOLALDE SUBIA MICHAEL NELSON VENTA DE COMIDA...            ALIMENTACIÓN\n",
       "10  CORPORACION NACIONAL DE TELECOMUNICACIONES - C...            COMUNICACIÓN\n",
       "11  BANCO PICHINCHA CA ACTIVIDADES DE INTERMEDIACI...                   OTROS\n",
       "12  CORPORACION FAVORITA C.A. VENTA AL POR MAYOR D...            ALIMENTACIÓN\n",
       "13  COMERCIAL KYWI S.A. VENTA AL POR MAYOR DE ARTÍ...                VIVIENDA\n",
       "14  KERAMIKOS S.A. FABRICACIÓN DE ARTÍCULOS PARA C...                VIVIENDA\n",
       "15  AIG METROPOLITANA CIA. DE SEGUROS Y REASEGUROS...                   SALUD\n",
       "16  HAYEK INTERNACIONAL CIA. LTDA. VENTA AL POR ME...                VIVIENDA\n",
       "17  TELEVISION Y VENTAS TELEVENT S.A. VENTA AL POR...                VIVIENDA\n",
       "18  CONSORCIO ECUATORIANO DE TELECOMUNICACIONES S....            COMUNICACIÓN\n",
       "19  OTECEL S.A. ACTIVIDADES DE MANTENIMIENTO Y EXP...            COMUNICACIÓN\n",
       "20  MEGADATOS S.A. VENTA AL POR MENOR DE PROGRAMAS...            COMUNICACIÓN\n",
       "21  IMPORTADORA ELECTRICA ALVARADO IMPELAL CIA. LT...                VIVIENDA\n",
       "22  ECONOFARM S.A. VENTA AL POR MAYOR DE ARTÍCULOS...                   SALUD\n",
       "23  COMERCIAL EL ARBOLITO CIA. LTDA. VENTA AL POR ...            ALIMENTACIÓN\n",
       "24  MEGA SANTAMARIA S.A. VENTA AL POR MAYOR DE OTR...            ALIMENTACIÓN\n",
       "25  GROUPKENNEDY CIA. LTDA. VENTA DE COMIDAS Y BEB...            ALIMENTACIÓN\n",
       "26  MACONSMIL CIA. LTDA. VENTA AL POR MAYOR DE MAT...                VIVIENDA\n",
       "27  BAZFEX S.A. VENTA AL POR MAYOR DE PRODUCTOS DE...            ALIMENTACIÓN\n",
       "28  TACONAZO RESTAURANTES Y BEBIDAS VILLAGRANMOLIN...            ALIMENTACIÓN\n",
       "29  LOST-GRILL ECUADOR S.A.S. RESTAURANTES, CEVICH...            ALIMENTACIÓN"
      ]
     },
     "execution_count": 42,
     "metadata": {},
     "output_type": "execute_result"
    }
   ],
   "source": [
    "df = pd.read_excel('DATA_ENTRENAMIENTO.xlsx')\n",
    "df"
   ]
  },
  {
   "cell_type": "code",
   "execution_count": 34,
   "id": "e1622a8f",
   "metadata": {},
   "outputs": [],
   "source": [
    "# Crear un dataframe con los datos etiquetados\n",
    "df = pd.DataFrame({'texto': ['hola como estas', 'chao como como te vas', 'fuerte', 'hey', 'ff', 'texto 6', 'valiente'],\n",
    "                   'clase': ['clase 1', 'clase 2', 'clase 3', 'clase 4', 'clase 5', 'clase 6', 'clase 2']})"
   ]
  },
  {
   "cell_type": "code",
   "execution_count": 43,
   "id": "323a6e06",
   "metadata": {},
   "outputs": [],
   "source": [
    "# Crear una matriz de términos y frecuencias\n",
    "vectorizer = CountVectorizer()\n",
    "X = vectorizer.fit_transform(df['RAZON'])"
   ]
  },
  {
   "cell_type": "code",
   "execution_count": 55,
   "id": "55754803",
   "metadata": {},
   "outputs": [
    {
     "name": "stdout",
     "output_type": "stream",
     "text": [
      "['accesorios' 'actividades' 'administración' 'administrativas' 'adornos'\n",
      " 'ahorro' 'aig' 'al' 'alambres' 'alimenticios' 'alvarado' 'anualidades'\n",
      " 'aparatos' 'arbolito' 'arena' 'armado' 'artículos' 'asociadas'\n",
      " 'asumiendo' 'atimasa' 'automotores' 'banca' 'banco' 'barros' 'bazar'\n",
      " 'bazfex' 'beatriz' 'bebidas' 'beltran' 'bienes' 'bricolaje' 'ca' 'cables'\n",
      " 'cafeterías' 'cajas' 'cambio' 'casero' 'cañas' 'cemento' 'cementos'\n",
      " 'centralizadas' 'cerraduras' 'cerámica' 'cevallos' 'cevicherías' 'cia'\n",
      " 'cnt' 'combustibles' 'comercial' 'comerciales' 'comida' 'comidas' 'como'\n",
      " 'compañía' 'componente' 'concertación' 'conecel' 'confitería' 'consorcio'\n",
      " 'construcción' 'consumidor' 'contrato' 'contratos' 'control'\n",
      " 'corporacion' 'corrientes' 'cosméticos' 'cualquier' 'césped' 'de'\n",
      " 'decisiones' 'destornilladores' 'dispositivos' 'distrito' 'diversos'\n",
      " 'doble' 'econofarm' 'ecuador' 'ecuatoriano' 'ejerciendo' 'el' 'electrica'\n",
      " 'eléctricos' 'empresa' 'en' 'entre' 'ep' 'equipo' 'especializados'\n",
      " 'establecimientos' 'estratégica' 'estructuras' 'etcétera' 'explotación'\n",
      " 'extintores' 'fabricación' 'favorita' 'ferretería' 'ferreterías'\n",
      " 'fuertes' 'función' 'garcia' 'general' 'germania' 'gestión' 'gran'\n",
      " 'grava' 'grill' 'groupkennedy' 'hayek' 'herramientas' 'hogar' 'impelal'\n",
      " 'importadora' 'importante' 'inalámbricas' 'incluido' 'incluso'\n",
      " 'indemnización' 'industriales' 'informáticos' 'inmuebles'\n",
      " 'intermediación' 'internacional' 'invalidez' 'keramikos' 'kywi' 'la'\n",
      " 'las' 'llevar' 'los' 'lost' 'ltda' 'maconsmil' 'mano' 'mantenimiento'\n",
      " 'margarita' 'maria' 'martha' 'martillos' 'materiales' 'mayor' 'mega'\n",
      " 'megadatos' 'menor' 'metropolitana' 'metálicos' 'michael' 'misma'\n",
      " 'monetaria' 'montajes' 'mora' 'morteros' 'motocicletas' 'muebles' 'móvil'\n",
      " 'nacional' 'necesidad' 'nelly' 'nelson' 'nicolalde' 'no' 'nucopsa'\n",
      " 'nuevas' 'oficinas' 'operaciones' 'operativo' 'organizativa' 'ortega'\n",
      " 'otecel' 'otras' 'otros' 'para' 'pequeñas' 'personalizados' 'picanterías'\n",
      " 'pichincha' 'piedra' 'planificación' 'por' 'predominan' 'prefabricados'\n",
      " 'prendas' 'primera' 'principales' 'productos' 'programas' 'pólizas' 'que'\n",
      " 'realizada' 'realpe' 'reaseguros' 'redes' 'refractaria' 'refractarios'\n",
      " 'regionales' 'restaurantes' 'retribución' 'rosa' 'rosado' 'salazar'\n",
      " 'santamaria' 'sara' 'sedes' 'segadoras' 'seguros' 'sierras' 'subia'\n",
      " 'subsidiarias' 'supermercados' 'supervisión' 'tabaco' 'taconazo'\n",
      " 'telecomunicaciones' 'telefonía' 'televent' 'television' 'tengan' 'tia'\n",
      " 'tiendas' 'tipo' 'tipos' 'toma' 'un' 'una' 'unidades' 'variedad' 'varios'\n",
      " 'vehículos' 'venta' 'ventas' 'vestir' 'vida' 'villagranmolineros'\n",
      " 'yolanda']\n",
      "[[0 0 0 ... 0 0 0]\n",
      " [0 0 0 ... 0 0 0]\n",
      " [0 0 0 ... 0 0 0]\n",
      " ...\n",
      " [0 0 0 ... 0 0 0]\n",
      " [0 0 0 ... 0 1 0]\n",
      " [0 0 0 ... 0 0 0]]\n"
     ]
    }
   ],
   "source": [
    "print(vectorizer.get_feature_names_out())\n",
    "print(X.toarray())"
   ]
  },
  {
   "cell_type": "code",
   "execution_count": 44,
   "id": "8b0133c8",
   "metadata": {},
   "outputs": [
    {
     "data": {
      "text/html": [
       "<style>#sk-container-id-6 {color: black;background-color: white;}#sk-container-id-6 pre{padding: 0;}#sk-container-id-6 div.sk-toggleable {background-color: white;}#sk-container-id-6 label.sk-toggleable__label {cursor: pointer;display: block;width: 100%;margin-bottom: 0;padding: 0.3em;box-sizing: border-box;text-align: center;}#sk-container-id-6 label.sk-toggleable__label-arrow:before {content: \"▸\";float: left;margin-right: 0.25em;color: #696969;}#sk-container-id-6 label.sk-toggleable__label-arrow:hover:before {color: black;}#sk-container-id-6 div.sk-estimator:hover label.sk-toggleable__label-arrow:before {color: black;}#sk-container-id-6 div.sk-toggleable__content {max-height: 0;max-width: 0;overflow: hidden;text-align: left;background-color: #f0f8ff;}#sk-container-id-6 div.sk-toggleable__content pre {margin: 0.2em;color: black;border-radius: 0.25em;background-color: #f0f8ff;}#sk-container-id-6 input.sk-toggleable__control:checked~div.sk-toggleable__content {max-height: 200px;max-width: 100%;overflow: auto;}#sk-container-id-6 input.sk-toggleable__control:checked~label.sk-toggleable__label-arrow:before {content: \"▾\";}#sk-container-id-6 div.sk-estimator input.sk-toggleable__control:checked~label.sk-toggleable__label {background-color: #d4ebff;}#sk-container-id-6 div.sk-label input.sk-toggleable__control:checked~label.sk-toggleable__label {background-color: #d4ebff;}#sk-container-id-6 input.sk-hidden--visually {border: 0;clip: rect(1px 1px 1px 1px);clip: rect(1px, 1px, 1px, 1px);height: 1px;margin: -1px;overflow: hidden;padding: 0;position: absolute;width: 1px;}#sk-container-id-6 div.sk-estimator {font-family: monospace;background-color: #f0f8ff;border: 1px dotted black;border-radius: 0.25em;box-sizing: border-box;margin-bottom: 0.5em;}#sk-container-id-6 div.sk-estimator:hover {background-color: #d4ebff;}#sk-container-id-6 div.sk-parallel-item::after {content: \"\";width: 100%;border-bottom: 1px solid gray;flex-grow: 1;}#sk-container-id-6 div.sk-label:hover label.sk-toggleable__label {background-color: #d4ebff;}#sk-container-id-6 div.sk-serial::before {content: \"\";position: absolute;border-left: 1px solid gray;box-sizing: border-box;top: 0;bottom: 0;left: 50%;z-index: 0;}#sk-container-id-6 div.sk-serial {display: flex;flex-direction: column;align-items: center;background-color: white;padding-right: 0.2em;padding-left: 0.2em;position: relative;}#sk-container-id-6 div.sk-item {position: relative;z-index: 1;}#sk-container-id-6 div.sk-parallel {display: flex;align-items: stretch;justify-content: center;background-color: white;position: relative;}#sk-container-id-6 div.sk-item::before, #sk-container-id-6 div.sk-parallel-item::before {content: \"\";position: absolute;border-left: 1px solid gray;box-sizing: border-box;top: 0;bottom: 0;left: 50%;z-index: -1;}#sk-container-id-6 div.sk-parallel-item {display: flex;flex-direction: column;z-index: 1;position: relative;background-color: white;}#sk-container-id-6 div.sk-parallel-item:first-child::after {align-self: flex-end;width: 50%;}#sk-container-id-6 div.sk-parallel-item:last-child::after {align-self: flex-start;width: 50%;}#sk-container-id-6 div.sk-parallel-item:only-child::after {width: 0;}#sk-container-id-6 div.sk-dashed-wrapped {border: 1px dashed gray;margin: 0 0.4em 0.5em 0.4em;box-sizing: border-box;padding-bottom: 0.4em;background-color: white;}#sk-container-id-6 div.sk-label label {font-family: monospace;font-weight: bold;display: inline-block;line-height: 1.2em;}#sk-container-id-6 div.sk-label-container {text-align: center;}#sk-container-id-6 div.sk-container {/* jupyter's `normalize.less` sets `[hidden] { display: none; }` but bootstrap.min.css set `[hidden] { display: none !important; }` so we also need the `!important` here to be able to override the default hidden behavior on the sphinx rendered scikit-learn.org. See: https://github.com/scikit-learn/scikit-learn/issues/21755 */display: inline-block !important;position: relative;}#sk-container-id-6 div.sk-text-repr-fallback {display: none;}</style><div id=\"sk-container-id-6\" class=\"sk-top-container\"><div class=\"sk-text-repr-fallback\"><pre>MultinomialNB()</pre><b>In a Jupyter environment, please rerun this cell to show the HTML representation or trust the notebook. <br />On GitHub, the HTML representation is unable to render, please try loading this page with nbviewer.org.</b></div><div class=\"sk-container\" hidden><div class=\"sk-item\"><div class=\"sk-estimator sk-toggleable\"><input class=\"sk-toggleable__control sk-hidden--visually\" id=\"sk-estimator-id-6\" type=\"checkbox\" checked><label for=\"sk-estimator-id-6\" class=\"sk-toggleable__label sk-toggleable__label-arrow\">MultinomialNB</label><div class=\"sk-toggleable__content\"><pre>MultinomialNB()</pre></div></div></div></div></div>"
      ],
      "text/plain": [
       "MultinomialNB()"
      ]
     },
     "execution_count": 44,
     "metadata": {},
     "output_type": "execute_result"
    }
   ],
   "source": [
    "# Entrenar el modelo\n",
    "clf = MultinomialNB()\n",
    "clf.fit(X, df['CLASE'])"
   ]
  },
  {
   "cell_type": "code",
   "execution_count": 59,
   "id": "b80c3830",
   "metadata": {},
   "outputs": [
    {
     "name": "stdout",
     "output_type": "stream",
     "text": [
      "['ALIMENTACIÓN']\n"
     ]
    }
   ],
   "source": [
    "# Predecir la clase de una nueva instancia de texto\n",
    "nuevo_texto = ['ATIMASA S.A.']\n",
    "nuevo_texto_transformado = vectorizer.transform(nuevo_texto)\n",
    "print(clf.predict(nuevo_texto_transformado))"
   ]
  },
  {
   "cell_type": "code",
   "execution_count": 65,
   "id": "fba0c5db",
   "metadata": {},
   "outputs": [
    {
     "name": "stdout",
     "output_type": "stream",
     "text": [
      "['ALIMENTACIÓN']\n"
     ]
    }
   ],
   "source": [
    "nuevo_texto = ['FARMACIAS Y COMISARIATOS DE MEDICINAS S.A. FARCOMED VENTA AL POR MAYOR DE PRODUCTOS FARMACÉUTICOS, INCLUSO VETERINARIOS.']\n",
    "nuevo_texto_transformado = vectorizer.transform(nuevo_texto)\n",
    "print(clf.predict(nuevo_texto_transformado))"
   ]
  },
  {
   "cell_type": "code",
   "execution_count": 54,
   "id": "dd4695f6",
   "metadata": {},
   "outputs": [
    {
     "name": "stdout",
     "output_type": "stream",
     "text": [
      "['ALIMENTACIÓN']\n"
     ]
    }
   ],
   "source": [
    "nuevo_texto = ['COMBUSTIBLE']\n",
    "nuevo_texto_transformado = vectorizer.transform(nuevo_texto)\n",
    "print(clf.predict(nuevo_texto_transformado))"
   ]
  },
  {
   "cell_type": "code",
   "execution_count": 52,
   "id": "4d8ab51d",
   "metadata": {},
   "outputs": [
    {
     "name": "stdout",
     "output_type": "stream",
     "text": [
      "['ALIMENTACIÓN']\n"
     ]
    }
   ],
   "source": [
    "nuevo_texto = ['DATOS']\n",
    "nuevo_texto_transformado = vectorizer.transform(nuevo_texto)\n",
    "print(clf.predict(nuevo_texto_transformado))"
   ]
  }
 ],
 "metadata": {
  "kernelspec": {
   "display_name": "Python 3 (ipykernel)",
   "language": "python",
   "name": "python3"
  },
  "language_info": {
   "codemirror_mode": {
    "name": "ipython",
    "version": 3
   },
   "file_extension": ".py",
   "mimetype": "text/x-python",
   "name": "python",
   "nbconvert_exporter": "python",
   "pygments_lexer": "ipython3",
   "version": "3.9.12"
  }
 },
 "nbformat": 4,
 "nbformat_minor": 5
}
